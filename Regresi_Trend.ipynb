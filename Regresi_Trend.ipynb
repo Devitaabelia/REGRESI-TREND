{
  "nbformat": 4,
  "nbformat_minor": 0,
  "metadata": {
    "colab": {
      "provenance": []
    },
    "kernelspec": {
      "name": "python3",
      "display_name": "Python 3"
    },
    "language_info": {
      "name": "python"
    }
  },
  "cells": [
    {
      "cell_type": "markdown",
      "source": [
        "# IMPORT PACKAGE"
      ],
      "metadata": {
        "id": "unkIbSIG6-lY"
      }
    },
    {
      "cell_type": "code",
      "execution_count": 1,
      "metadata": {
        "id": "JgSHbbvmxt-P"
      },
      "outputs": [],
      "source": [
        "import pandas as pd\n",
        "import numpy as np\n",
        "import matplotlib.pyplot as plt\n",
        "import statsmodels.api as sm"
      ]
    },
    {
      "cell_type": "markdown",
      "source": [
        "# IMPORT DATA"
      ],
      "metadata": {
        "id": "-KpyYq2A7Col"
      }
    },
    {
      "cell_type": "code",
      "source": [
        "# Coba baca berkas dengan pengkodean yang berbeda, seperti 'latin-1'\n",
        "df = pd.read_csv('Jumlah Keberangkatan Penumpang Pelabuhan Tanjung Perak.csv', encoding='latin-1')\n",
        "df['Bulan'] = pd.to_datetime(df['Bulan'])\n",
        "df.set_index('Bulan', inplace=True)\n",
        "\n",
        "# Tampilkan DataFrame\n",
        "print(df)"
      ],
      "metadata": {
        "colab": {
          "base_uri": "https://localhost:8080/"
        },
        "id": "IGOHF5aCyNPa",
        "outputId": "54abb2a3-7db8-4c3d-cf06-0828f572c185"
      },
      "execution_count": 2,
      "outputs": [
        {
          "output_type": "stream",
          "name": "stdout",
          "text": [
            "            Jumlah Keberangkatan Penumpang  DummyBulanIdulFitri  \\\n",
            "Bulan                                                             \n",
            "2014-01-01                         22103.0                  0.0   \n",
            "2014-02-01                         23436.0                  0.0   \n",
            "2014-03-01                         25760.0                  0.0   \n",
            "2014-04-01                         17508.0                  0.0   \n",
            "2014-05-01                         19552.0                  0.0   \n",
            "...                                    ...                  ...   \n",
            "2023-08-01                         74782.0                  0.0   \n",
            "2023-09-01                         63942.0                  0.0   \n",
            "2023-10-01                         68093.0                  0.0   \n",
            "2023-11-01                         53545.0                  0.0   \n",
            "2023-12-01                         46329.0                  0.0   \n",
            "\n",
            "           DummyIdulFitri DummyIdulAdha  DummyBulanIdulAdha  \n",
            "Bulan                                                        \n",
            "2014-01-01           0.00          0.00                 0.0  \n",
            "2014-02-01           0.00          0.00                 0.0  \n",
            "2014-03-01           0.00          0.00                 0.0  \n",
            "2014-04-01           0.00          0.00                 0.0  \n",
            "2014-05-01           0.00          0.00                 0.0  \n",
            "...                   ...           ...                 ...  \n",
            "2023-08-01           0.00          0.00                 0.0  \n",
            "2023-09-01           0.00          0.00                 0.0  \n",
            "2023-10-01           0.00          0.00                 0.0  \n",
            "2023-11-01           0.00          0.00                 0.0  \n",
            "2023-12-01           0.00          0.00                 0.0  \n",
            "\n",
            "[120 rows x 5 columns]\n"
          ]
        }
      ]
    },
    {
      "cell_type": "code",
      "source": [
        "# Menambahkan kolom 'Time' sebagai variabel waktu (indeks waktu)\n",
        "df['Time'] = range(1, len(df) + 1)  # Variabel time dimulai dari 1 hingga jumlah total data\n",
        "\n",
        "print(df)  # Menampilkan semua baris data (hati-hati jika datanya besar)\n"
      ],
      "metadata": {
        "colab": {
          "base_uri": "https://localhost:8080/"
        },
        "id": "0QJxQt8jhTr_",
        "outputId": "344f98a1-8a5b-4de9-8b17-67f523f6c331"
      },
      "execution_count": 4,
      "outputs": [
        {
          "output_type": "stream",
          "name": "stdout",
          "text": [
            "            Jumlah Keberangkatan Penumpang  DummyBulanIdulFitri  \\\n",
            "Bulan                                                             \n",
            "2014-01-01                         22103.0                  0.0   \n",
            "2014-02-01                         23436.0                  0.0   \n",
            "2014-03-01                         25760.0                  0.0   \n",
            "2014-04-01                         17508.0                  0.0   \n",
            "2014-05-01                         19552.0                  0.0   \n",
            "...                                    ...                  ...   \n",
            "2023-08-01                         74782.0                  0.0   \n",
            "2023-09-01                         63942.0                  0.0   \n",
            "2023-10-01                         68093.0                  0.0   \n",
            "2023-11-01                         53545.0                  0.0   \n",
            "2023-12-01                         46329.0                  0.0   \n",
            "\n",
            "           DummyIdulFitri DummyIdulAdha  DummyBulanIdulAdha  Time  \n",
            "Bulan                                                              \n",
            "2014-01-01           0.00          0.00                 0.0     1  \n",
            "2014-02-01           0.00          0.00                 0.0     2  \n",
            "2014-03-01           0.00          0.00                 0.0     3  \n",
            "2014-04-01           0.00          0.00                 0.0     4  \n",
            "2014-05-01           0.00          0.00                 0.0     5  \n",
            "...                   ...           ...                 ...   ...  \n",
            "2023-08-01           0.00          0.00                 0.0   116  \n",
            "2023-09-01           0.00          0.00                 0.0   117  \n",
            "2023-10-01           0.00          0.00                 0.0   118  \n",
            "2023-11-01           0.00          0.00                 0.0   119  \n",
            "2023-12-01           0.00          0.00                 0.0   120  \n",
            "\n",
            "[120 rows x 6 columns]\n"
          ]
        }
      ]
    },
    {
      "cell_type": "markdown",
      "source": [
        "# Pembagian Data"
      ],
      "metadata": {
        "id": "RJrbUS5k7QyR"
      }
    },
    {
      "cell_type": "code",
      "source": [
        "# Membagi data menjadi insample (96 data pertama) dan outsample (12 data terakhir)\n",
        "insample = df[:96]   # 96 data pertama\n",
        "outsample = df[96:]  # 12 data terakhir"
      ],
      "metadata": {
        "id": "kyPs8cwseGhR"
      },
      "execution_count": 5,
      "outputs": []
    },
    {
      "cell_type": "markdown",
      "source": [
        "# Pendefisian Variabel"
      ],
      "metadata": {
        "id": "4gUJ_0_c7Ttl"
      }
    },
    {
      "cell_type": "code",
      "source": [
        "# Definisikan variabel dependen (y) dan variabel independen (X) untuk insample\n",
        "y_insample = insample['Jumlah Keberangkatan Penumpang']\n",
        "X_insample = insample[['Time' ,'DummyBulanIdulFitri', 'DummyIdulFitri', 'DummyBulanIdulAdha', 'DummyIdulAdha']]"
      ],
      "metadata": {
        "id": "EVBbbUnIeMkn"
      },
      "execution_count": 6,
      "outputs": []
    },
    {
      "cell_type": "code",
      "source": [
        "# Definisikan variabel dependen (y) dan variabel independen (X) untuk insample\n",
        "y_outsample = outsample['Jumlah Keberangkatan Penumpang']\n",
        "X_outsample = outsample[['Time' ,'DummyBulanIdulFitri', 'DummyIdulFitri', 'DummyBulanIdulAdha', 'DummyIdulAdha']]"
      ],
      "metadata": {
        "id": "ICHTnw3xiAMA"
      },
      "execution_count": 7,
      "outputs": []
    },
    {
      "cell_type": "markdown",
      "source": [
        "# Penambahan Konstanta"
      ],
      "metadata": {
        "id": "9bsj2rqC7YPF"
      }
    },
    {
      "cell_type": "code",
      "source": [
        "# Menambahkan konstanta ke dalam model regresi\n",
        "X_insample = sm.add_constant(X_insample)\n",
        "X_outsample = sm.add_constant(X_outsample)"
      ],
      "metadata": {
        "id": "onxsZQF2eXlV"
      },
      "execution_count": 8,
      "outputs": []
    },
    {
      "cell_type": "markdown",
      "source": [
        "# Stasioneritas"
      ],
      "metadata": {
        "id": "PXEbP-lo7mkA"
      }
    },
    {
      "cell_type": "markdown",
      "source": [
        "# Dalam Varians"
      ],
      "metadata": {
        "id": "URuZWjJu7tkS"
      }
    },
    {
      "cell_type": "code",
      "source": [
        "from statsmodels.tsa.stattools import kpss\n",
        "\n",
        "# Asumsikan 'data' adalah data deret waktu Anda\n",
        "result = kpss(y_insample, regression='c')\n",
        "\n",
        "print('KPSS Statistic:', result[0])\n",
        "print('p-value:', result[1])\n",
        "print('Critical Values:', result[3])\n",
        "\n",
        "if result[1] > 0.05:\n",
        "    print(\"Stasioner dalam varians\")\n",
        "else:\n",
        "    print(\"Tidak stasioner dalam varians\")"
      ],
      "metadata": {
        "colab": {
          "base_uri": "https://localhost:8080/"
        },
        "id": "7qyTBGxK8K3g",
        "outputId": "29d9f381-c679-4608-85a3-9c79af9a9ae2"
      },
      "execution_count": 9,
      "outputs": [
        {
          "output_type": "stream",
          "name": "stdout",
          "text": [
            "KPSS Statistic: 0.08051183870074664\n",
            "p-value: 0.1\n",
            "Critical Values: {'10%': 0.347, '5%': 0.463, '2.5%': 0.574, '1%': 0.739}\n",
            "Stasioner dalam varians\n"
          ]
        },
        {
          "output_type": "stream",
          "name": "stderr",
          "text": [
            "<ipython-input-9-a361914483f3>:4: InterpolationWarning: The test statistic is outside of the range of p-values available in the\n",
            "look-up table. The actual p-value is greater than the p-value returned.\n",
            "\n",
            "  result = kpss(y_insample, regression='c')\n"
          ]
        }
      ]
    },
    {
      "cell_type": "markdown",
      "source": [
        "# Dalam Mean"
      ],
      "metadata": {
        "id": "vTDuH6P27p01"
      }
    },
    {
      "cell_type": "markdown",
      "source": [
        "### Tingkat Level"
      ],
      "metadata": {
        "id": "agdxglBH9sAP"
      }
    },
    {
      "cell_type": "code",
      "source": [
        "!pip install statsmodels\n",
        "import statsmodels.tsa.stattools as ts\n",
        "\n",
        "def test_stationarity(timeseries):\n",
        "    # Use ts.adfuller since the function is imported from statsmodels.tsa.stattools\n",
        "    result = ts.adfuller(timeseries, autolag='AIC')\n",
        "    print('ADF Statistic:', result[0])\n",
        "    print('p-value:', result[1])\n",
        "    print('Critical Values:', result[4])\n",
        "    if result[1] <= 0.05:\n",
        "        print(\"Stasioner\")\n",
        "    else:\n",
        "        print(\"Tidak Stasioner\")\n",
        "\n",
        "print(\"Uji Stasioneritas data asli (In-sample):\")\n",
        "test_stationarity(y_insample)"
      ],
      "metadata": {
        "colab": {
          "base_uri": "https://localhost:8080/"
        },
        "id": "v1T89y5Z-KS7",
        "outputId": "ab888929-0e64-49a0-a906-bd6cf7ffc446"
      },
      "execution_count": 10,
      "outputs": [
        {
          "output_type": "stream",
          "name": "stdout",
          "text": [
            "Requirement already satisfied: statsmodels in /usr/local/lib/python3.10/dist-packages (0.14.3)\n",
            "Requirement already satisfied: numpy<3,>=1.22.3 in /usr/local/lib/python3.10/dist-packages (from statsmodels) (1.26.4)\n",
            "Requirement already satisfied: scipy!=1.9.2,>=1.8 in /usr/local/lib/python3.10/dist-packages (from statsmodels) (1.13.1)\n",
            "Requirement already satisfied: pandas!=2.1.0,>=1.4 in /usr/local/lib/python3.10/dist-packages (from statsmodels) (2.1.4)\n",
            "Requirement already satisfied: patsy>=0.5.6 in /usr/local/lib/python3.10/dist-packages (from statsmodels) (0.5.6)\n",
            "Requirement already satisfied: packaging>=21.3 in /usr/local/lib/python3.10/dist-packages (from statsmodels) (24.1)\n",
            "Requirement already satisfied: python-dateutil>=2.8.2 in /usr/local/lib/python3.10/dist-packages (from pandas!=2.1.0,>=1.4->statsmodels) (2.8.2)\n",
            "Requirement already satisfied: pytz>=2020.1 in /usr/local/lib/python3.10/dist-packages (from pandas!=2.1.0,>=1.4->statsmodels) (2024.2)\n",
            "Requirement already satisfied: tzdata>=2022.1 in /usr/local/lib/python3.10/dist-packages (from pandas!=2.1.0,>=1.4->statsmodels) (2024.1)\n",
            "Requirement already satisfied: six in /usr/local/lib/python3.10/dist-packages (from patsy>=0.5.6->statsmodels) (1.16.0)\n",
            "Uji Stasioneritas data asli (In-sample):\n",
            "ADF Statistic: -2.094931883155056\n",
            "p-value: 0.24655739429290313\n",
            "Critical Values: {'1%': -3.5117123057187376, '5%': -2.8970475206326833, '10%': -2.5857126912469153}\n",
            "Tidak Stasioner\n"
          ]
        }
      ]
    },
    {
      "cell_type": "markdown",
      "source": [
        "### Tingkat Differencing 1"
      ],
      "metadata": {
        "id": "ysuLraCd9uqp"
      }
    },
    {
      "cell_type": "code",
      "source": [
        "insample['diff'] = y_insample.diff().dropna()\n",
        "\n",
        "print(\"\\nUji Stasioneritas setelah differencing (In-sample):\")\n",
        "test_stationarity(insample['diff'].dropna())"
      ],
      "metadata": {
        "colab": {
          "base_uri": "https://localhost:8080/"
        },
        "id": "jGYXaYeM---p",
        "outputId": "314ec4d2-0a9c-4538-aa38-4d528bc7b0f6"
      },
      "execution_count": 11,
      "outputs": [
        {
          "output_type": "stream",
          "name": "stdout",
          "text": [
            "\n",
            "Uji Stasioneritas setelah differencing (In-sample):\n",
            "ADF Statistic: -4.069553791077843\n",
            "p-value: 0.0010870488298301143\n",
            "Critical Values: {'1%': -3.5117123057187376, '5%': -2.8970475206326833, '10%': -2.5857126912469153}\n",
            "Stasioner\n"
          ]
        },
        {
          "output_type": "stream",
          "name": "stderr",
          "text": [
            "<ipython-input-11-9c07b7f3db3b>:1: SettingWithCopyWarning: \n",
            "A value is trying to be set on a copy of a slice from a DataFrame.\n",
            "Try using .loc[row_indexer,col_indexer] = value instead\n",
            "\n",
            "See the caveats in the documentation: https://pandas.pydata.org/pandas-docs/stable/user_guide/indexing.html#returning-a-view-versus-a-copy\n",
            "  insample['diff'] = y_insample.diff().dropna()\n"
          ]
        }
      ]
    },
    {
      "cell_type": "markdown",
      "source": [
        "# Estimasi Parameter"
      ],
      "metadata": {
        "id": "ahgJNKTN7dh1"
      }
    },
    {
      "cell_type": "code",
      "source": [
        "# Convert relevant columns in X_insample and insample['diff'] to numeric types\n",
        "X_insample = X_insample.apply(pd.to_numeric, errors='coerce').fillna(0) # Fill NaN values with 0\n",
        "insample['diff'] = pd.to_numeric(insample['diff'], errors='coerce').fillna(0) # Fill NaN values with 0\n",
        "\n",
        "# Create the model\n",
        "model = sm.OLS(insample['diff'], X_insample).fit()\n",
        "\n",
        "# Melihat ringkasan hasil model insample\n",
        "print(model.summary())"
      ],
      "metadata": {
        "colab": {
          "base_uri": "https://localhost:8080/"
        },
        "id": "2Ef3A2fEfePh",
        "outputId": "bf73ba89-105c-4ec3-82a0-525bad4f1c54"
      },
      "execution_count": 12,
      "outputs": [
        {
          "output_type": "stream",
          "name": "stdout",
          "text": [
            "                            OLS Regression Results                            \n",
            "==============================================================================\n",
            "Dep. Variable:                   diff   R-squared:                       0.229\n",
            "Model:                            OLS   Adj. R-squared:                  0.186\n",
            "Method:                 Least Squares   F-statistic:                     5.347\n",
            "Date:                Fri, 20 Sep 2024   Prob (F-statistic):           0.000239\n",
            "Time:                        05:51:10   Log-Likelihood:                -1086.7\n",
            "No. Observations:                  96   AIC:                             2185.\n",
            "Df Residuals:                      90   BIC:                             2201.\n",
            "Df Model:                           5                                         \n",
            "Covariance Type:            nonrobust                                         \n",
            "=======================================================================================\n",
            "                          coef    std err          t      P>|t|      [0.025      0.975]\n",
            "---------------------------------------------------------------------------------------\n",
            "const                 807.8321   4370.102      0.185      0.854   -7874.139    9489.803\n",
            "Time                  -17.3355     76.826     -0.226      0.822    -169.963     135.292\n",
            "DummyBulanIdulFitri   791.3867   1.49e+04      0.053      0.958   -2.87e+04    3.03e+04\n",
            "DummyIdulFitri       3.253e+04    1.7e+04      1.915      0.059   -1211.861    6.63e+04\n",
            "DummyBulanIdulAdha  -1.491e+04   1.48e+04     -1.009      0.316   -4.43e+04    1.45e+04\n",
            "DummyIdulAdha       -1.172e+04   1.69e+04     -0.695      0.489   -4.52e+04    2.18e+04\n",
            "==============================================================================\n",
            "Omnibus:                       32.063   Durbin-Watson:                   2.697\n",
            "Prob(Omnibus):                  0.000   Jarque-Bera (JB):              200.529\n",
            "Skew:                           0.767   Prob(JB):                     2.86e-44\n",
            "Kurtosis:                       9.912   Cond. No.                         579.\n",
            "==============================================================================\n",
            "\n",
            "Notes:\n",
            "[1] Standard Errors assume that the covariance matrix of the errors is correctly specified.\n"
          ]
        },
        {
          "output_type": "stream",
          "name": "stderr",
          "text": [
            "<ipython-input-12-56d23b90a9b7>:3: SettingWithCopyWarning: \n",
            "A value is trying to be set on a copy of a slice from a DataFrame.\n",
            "Try using .loc[row_indexer,col_indexer] = value instead\n",
            "\n",
            "See the caveats in the documentation: https://pandas.pydata.org/pandas-docs/stable/user_guide/indexing.html#returning-a-view-versus-a-copy\n",
            "  insample['diff'] = pd.to_numeric(insample['diff'], errors='coerce').fillna(0) # Fill NaN values with 0\n"
          ]
        }
      ]
    },
    {
      "cell_type": "code",
      "source": [
        "# Convert relevant columns in X_insample and insample['diff'] to numeric types\n",
        "X_insample = X_insample.apply(pd.to_numeric, errors='coerce').fillna(0) # Fill NaN values with 0\n",
        "insample['diff'] = pd.to_numeric(insample['diff'], errors='coerce').fillna(0) # Fill NaN values with 0\n",
        "\n",
        "# Create the model\n",
        "model = sm.OLS(insample['diff'], X_insample[['DummyBulanIdulFitri', 'DummyIdulFitri']]).fit()\n",
        "\n",
        "# Melihat ringkasan hasil model insample\n",
        "print(model.summary())"
      ],
      "metadata": {
        "colab": {
          "base_uri": "https://localhost:8080/"
        },
        "id": "pcJqQWvUgO2u",
        "outputId": "ad19b1ea-7e0c-41be-e63d-88cc2acc6efe"
      },
      "execution_count": 13,
      "outputs": [
        {
          "output_type": "stream",
          "name": "stdout",
          "text": [
            "                                 OLS Regression Results                                \n",
            "=======================================================================================\n",
            "Dep. Variable:                   diff   R-squared (uncentered):                   0.133\n",
            "Model:                            OLS   Adj. R-squared (uncentered):              0.115\n",
            "Method:                 Least Squares   F-statistic:                              7.233\n",
            "Date:                Fri, 20 Sep 2024   Prob (F-statistic):                     0.00120\n",
            "Time:                        05:53:27   Log-Likelihood:                         -1092.3\n",
            "No. Observations:                  96   AIC:                                      2189.\n",
            "Df Residuals:                      94   BIC:                                      2194.\n",
            "Df Model:                           2                                                  \n",
            "Covariance Type:            nonrobust                                                  \n",
            "=======================================================================================\n",
            "                          coef    std err          t      P>|t|      [0.025      0.975]\n",
            "---------------------------------------------------------------------------------------\n",
            "DummyBulanIdulFitri  1174.5000   1.51e+04      0.078      0.938   -2.88e+04    3.12e+04\n",
            "DummyIdulFitri       3.199e+04   1.74e+04      1.834      0.070   -2643.374    6.66e+04\n",
            "==============================================================================\n",
            "Omnibus:                       25.943   Durbin-Watson:                   2.469\n",
            "Prob(Omnibus):                  0.000   Jarque-Bera (JB):              159.204\n",
            "Skew:                           0.513   Prob(JB):                     2.69e-35\n",
            "Kurtosis:                       9.225   Cond. No.                         3.78\n",
            "==============================================================================\n",
            "\n",
            "Notes:\n",
            "[1] R² is computed without centering (uncentered) since the model does not contain a constant.\n",
            "[2] Standard Errors assume that the covariance matrix of the errors is correctly specified.\n"
          ]
        },
        {
          "output_type": "stream",
          "name": "stderr",
          "text": [
            "<ipython-input-13-d780743aad99>:3: SettingWithCopyWarning: \n",
            "A value is trying to be set on a copy of a slice from a DataFrame.\n",
            "Try using .loc[row_indexer,col_indexer] = value instead\n",
            "\n",
            "See the caveats in the documentation: https://pandas.pydata.org/pandas-docs/stable/user_guide/indexing.html#returning-a-view-versus-a-copy\n",
            "  insample['diff'] = pd.to_numeric(insample['diff'], errors='coerce').fillna(0) # Fill NaN values with 0\n"
          ]
        }
      ]
    },
    {
      "cell_type": "code",
      "source": [
        "# Definisikan variabel dependen (y) dan tambahkan variabel waktu sebagai bagian dari variabel independen\n",
        "insample['diff'] = y_insample.diff().dropna()\n",
        "X_insample = insample[['Time', 'DummyBulanIdulFitri', 'DummyIdulFitri']]  # Menambahkan variabel Time\n",
        "\n",
        "# Convert relevant columns to numeric types and handle NaN\n",
        "X_insample = X_insample.apply(pd.to_numeric, errors='coerce').fillna(0)\n",
        "insample['diff'] = pd.to_numeric(insample['diff'], errors='coerce').fillna(0)\n",
        "\n",
        "# Menambahkan konstanta ke dalam model regresi\n",
        "X_insample = sm.add_constant(X_insample)\n",
        "\n",
        "# Membuat model regresi tren\n",
        "model = sm.OLS(insample['diff'], X_insample).fit()\n",
        "\n",
        "# Melihat ringkasan hasil model insample\n",
        "print(model.summary())"
      ],
      "metadata": {
        "colab": {
          "base_uri": "https://localhost:8080/"
        },
        "id": "dHpMDMiWg4ql",
        "outputId": "4dda2354-8f29-47f2-8dd5-2950a3977fcb"
      },
      "execution_count": 14,
      "outputs": [
        {
          "output_type": "stream",
          "name": "stdout",
          "text": [
            "                            OLS Regression Results                            \n",
            "==============================================================================\n",
            "Dep. Variable:                   diff   R-squared:                       0.142\n",
            "Model:                            OLS   Adj. R-squared:                  0.114\n",
            "Method:                 Least Squares   F-statistic:                     5.090\n",
            "Date:                Fri, 20 Sep 2024   Prob (F-statistic):            0.00264\n",
            "Time:                        05:55:23   Log-Likelihood:                -1091.8\n",
            "No. Observations:                  96   AIC:                             2192.\n",
            "Df Residuals:                      92   BIC:                             2202.\n",
            "Df Model:                           3                                         \n",
            "Covariance Type:            nonrobust                                         \n",
            "=======================================================================================\n",
            "                          coef    std err          t      P>|t|      [0.025      0.975]\n",
            "---------------------------------------------------------------------------------------\n",
            "const               -1294.7776   4504.534     -0.287      0.774   -1.02e+04    7651.616\n",
            "Time                  -18.3944     79.925     -0.230      0.818    -177.133     140.344\n",
            "DummyBulanIdulFitri  2919.9409   1.55e+04      0.189      0.851   -2.78e+04    3.37e+04\n",
            "DummyIdulFitri       3.257e+04   1.77e+04      1.838      0.069   -2623.013    6.78e+04\n",
            "==============================================================================\n",
            "Omnibus:                       25.522   Durbin-Watson:                   2.505\n",
            "Prob(Omnibus):                  0.000   Jarque-Bera (JB):              159.732\n",
            "Skew:                           0.482   Prob(JB):                     2.06e-35\n",
            "Kurtosis:                       9.245   Cond. No.                         579.\n",
            "==============================================================================\n",
            "\n",
            "Notes:\n",
            "[1] Standard Errors assume that the covariance matrix of the errors is correctly specified.\n"
          ]
        },
        {
          "output_type": "stream",
          "name": "stderr",
          "text": [
            "<ipython-input-14-6eb8b6d00c71>:2: SettingWithCopyWarning: \n",
            "A value is trying to be set on a copy of a slice from a DataFrame.\n",
            "Try using .loc[row_indexer,col_indexer] = value instead\n",
            "\n",
            "See the caveats in the documentation: https://pandas.pydata.org/pandas-docs/stable/user_guide/indexing.html#returning-a-view-versus-a-copy\n",
            "  insample['diff'] = y_insample.diff().dropna()\n",
            "<ipython-input-14-6eb8b6d00c71>:7: SettingWithCopyWarning: \n",
            "A value is trying to be set on a copy of a slice from a DataFrame.\n",
            "Try using .loc[row_indexer,col_indexer] = value instead\n",
            "\n",
            "See the caveats in the documentation: https://pandas.pydata.org/pandas-docs/stable/user_guide/indexing.html#returning-a-view-versus-a-copy\n",
            "  insample['diff'] = pd.to_numeric(insample['diff'], errors='coerce').fillna(0)\n"
          ]
        }
      ]
    },
    {
      "cell_type": "code",
      "source": [
        "# Definisikan variabel dependen (y) dan tambahkan variabel waktu sebagai bagian dari variabel independen\n",
        "insample['diff'] = y_insample.diff().dropna()\n",
        "X_insample = insample[['Time', 'DummyBulanIdulFitri']]  # Menambahkan variabel Time\n",
        "\n",
        "# Convert relevant columns to numeric types and handle NaN\n",
        "X_insample = X_insample.apply(pd.to_numeric, errors='coerce').fillna(0)\n",
        "insample['diff'] = pd.to_numeric(insample['diff'], errors='coerce').fillna(0)\n",
        "\n",
        "# Menambahkan konstanta ke dalam model regresi\n",
        "X_insample = sm.add_constant(X_insample)\n",
        "\n",
        "# Membuat model regresi tren\n",
        "model = sm.OLS(insample['diff'], X_insample).fit()\n",
        "\n",
        "# Melihat ringkasan hasil model insample\n",
        "print(model.summary())"
      ],
      "metadata": {
        "colab": {
          "base_uri": "https://localhost:8080/"
        },
        "id": "cHKpz-uziVke",
        "outputId": "6c8eebd7-327b-4bd2-ecab-25b70eb9b2e9"
      },
      "execution_count": 15,
      "outputs": [
        {
          "output_type": "stream",
          "name": "stdout",
          "text": [
            "                            OLS Regression Results                            \n",
            "==============================================================================\n",
            "Dep. Variable:                   diff   R-squared:                       0.111\n",
            "Model:                            OLS   Adj. R-squared:                  0.092\n",
            "Method:                 Least Squares   F-statistic:                     5.798\n",
            "Date:                Fri, 20 Sep 2024   Prob (F-statistic):            0.00424\n",
            "Time:                        05:56:15   Log-Likelihood:                -1093.5\n",
            "No. Observations:                  96   AIC:                             2193.\n",
            "Df Residuals:                      93   BIC:                             2201.\n",
            "Df Model:                           2                                         \n",
            "Covariance Type:            nonrobust                                         \n",
            "=======================================================================================\n",
            "                          coef    std err          t      P>|t|      [0.025      0.975]\n",
            "---------------------------------------------------------------------------------------\n",
            "const               -2307.8867   4527.491     -0.510      0.611   -1.13e+04    6682.814\n",
            "Time                    2.4798     80.120      0.031      0.975    -156.622     161.582\n",
            "DummyBulanIdulFitri  2.735e+04   8033.072      3.405      0.001    1.14e+04    4.33e+04\n",
            "==============================================================================\n",
            "Omnibus:                       25.598   Durbin-Watson:                   2.697\n",
            "Prob(Omnibus):                  0.000   Jarque-Bera (JB):              133.430\n",
            "Skew:                           0.581   Prob(JB):                     1.06e-29\n",
            "Kurtosis:                       8.657   Cond. No.                         203.\n",
            "==============================================================================\n",
            "\n",
            "Notes:\n",
            "[1] Standard Errors assume that the covariance matrix of the errors is correctly specified.\n"
          ]
        },
        {
          "output_type": "stream",
          "name": "stderr",
          "text": [
            "<ipython-input-15-eb1f7e03a839>:2: SettingWithCopyWarning: \n",
            "A value is trying to be set on a copy of a slice from a DataFrame.\n",
            "Try using .loc[row_indexer,col_indexer] = value instead\n",
            "\n",
            "See the caveats in the documentation: https://pandas.pydata.org/pandas-docs/stable/user_guide/indexing.html#returning-a-view-versus-a-copy\n",
            "  insample['diff'] = y_insample.diff().dropna()\n",
            "<ipython-input-15-eb1f7e03a839>:7: SettingWithCopyWarning: \n",
            "A value is trying to be set on a copy of a slice from a DataFrame.\n",
            "Try using .loc[row_indexer,col_indexer] = value instead\n",
            "\n",
            "See the caveats in the documentation: https://pandas.pydata.org/pandas-docs/stable/user_guide/indexing.html#returning-a-view-versus-a-copy\n",
            "  insample['diff'] = pd.to_numeric(insample['diff'], errors='coerce').fillna(0)\n"
          ]
        }
      ]
    },
    {
      "cell_type": "code",
      "source": [
        "# Definisikan variabel dependen (y) dan tambahkan variabel waktu sebagai bagian dari variabel independen\n",
        "insample['diff'] = y_insample.diff().dropna()\n",
        "X_insample = insample[['Time', 'DummyIdulFitri']]  # Menambahkan variabel Time\n",
        "\n",
        "# Convert relevant columns to numeric types and handle NaN\n",
        "X_insample = X_insample.apply(pd.to_numeric, errors='coerce').fillna(0)\n",
        "insample['diff'] = pd.to_numeric(insample['diff'], errors='coerce').fillna(0)\n",
        "\n",
        "# Menambahkan konstanta ke dalam model regresi\n",
        "X_insample = sm.add_constant(X_insample)\n",
        "\n",
        "# Membuat model regresi tren\n",
        "model = sm.OLS(insample['diff'], X_insample).fit()\n",
        "\n",
        "# Melihat ringkasan hasil model insample\n",
        "print(model.summary())"
      ],
      "metadata": {
        "colab": {
          "base_uri": "https://localhost:8080/"
        },
        "id": "LfsFWVQiiqti",
        "outputId": "4b812941-66d7-4e70-9f9f-1f05fa08b092"
      },
      "execution_count": 16,
      "outputs": [
        {
          "output_type": "stream",
          "name": "stderr",
          "text": [
            "<ipython-input-16-9be3edc42335>:2: SettingWithCopyWarning: \n",
            "A value is trying to be set on a copy of a slice from a DataFrame.\n",
            "Try using .loc[row_indexer,col_indexer] = value instead\n",
            "\n",
            "See the caveats in the documentation: https://pandas.pydata.org/pandas-docs/stable/user_guide/indexing.html#returning-a-view-versus-a-copy\n",
            "  insample['diff'] = y_insample.diff().dropna()\n",
            "<ipython-input-16-9be3edc42335>:7: SettingWithCopyWarning: \n",
            "A value is trying to be set on a copy of a slice from a DataFrame.\n",
            "Try using .loc[row_indexer,col_indexer] = value instead\n",
            "\n",
            "See the caveats in the documentation: https://pandas.pydata.org/pandas-docs/stable/user_guide/indexing.html#returning-a-view-versus-a-copy\n",
            "  insample['diff'] = pd.to_numeric(insample['diff'], errors='coerce').fillna(0)\n"
          ]
        },
        {
          "output_type": "stream",
          "name": "stdout",
          "text": [
            "                            OLS Regression Results                            \n",
            "==============================================================================\n",
            "Dep. Variable:                   diff   R-squared:                       0.142\n",
            "Model:                            OLS   Adj. R-squared:                  0.124\n",
            "Method:                 Least Squares   F-statistic:                     7.697\n",
            "Date:                Fri, 20 Sep 2024   Prob (F-statistic):           0.000806\n",
            "Time:                        06:01:40   Log-Likelihood:                -1091.8\n",
            "No. Observations:                  96   AIC:                             2190.\n",
            "Df Residuals:                      93   BIC:                             2197.\n",
            "Df Model:                           2                                         \n",
            "Covariance Type:            nonrobust                                         \n",
            "==================================================================================\n",
            "                     coef    std err          t      P>|t|      [0.025      0.975]\n",
            "----------------------------------------------------------------------------------\n",
            "const          -1140.0946   4406.232     -0.259      0.796   -9889.998    7609.808\n",
            "Time             -20.2652     78.895     -0.257      0.798    -176.936     136.406\n",
            "DummyIdulFitri  3.544e+04   9031.987      3.924      0.000    1.75e+04    5.34e+04\n",
            "==============================================================================\n",
            "Omnibus:                       25.321   Durbin-Watson:                   2.480\n",
            "Prob(Omnibus):                  0.000   Jarque-Bera (JB):              158.614\n",
            "Skew:                           0.472   Prob(JB):                     3.61e-35\n",
            "Kurtosis:                       9.226   Cond. No.                         232.\n",
            "==============================================================================\n",
            "\n",
            "Notes:\n",
            "[1] Standard Errors assume that the covariance matrix of the errors is correctly specified.\n"
          ]
        }
      ]
    },
    {
      "cell_type": "code",
      "source": [
        "# Definisikan variabel dependen (y) dan tambahkan variabel waktu sebagai bagian dari variabel independen\n",
        "insample['diff'] = y_insample.diff().dropna()\n",
        "X_insample = insample[['Time', 'DummyBulanIdulAdha', 'DummyIdulAdha']]  # Menambahkan variabel Time\n",
        "\n",
        "# Convert relevant columns to numeric types and handle NaN\n",
        "X_insample = X_insample.apply(pd.to_numeric, errors='coerce').fillna(0)\n",
        "insample['diff'] = pd.to_numeric(insample['diff'], errors='coerce').fillna(0)\n",
        "\n",
        "# Menambahkan konstanta ke dalam model regresi\n",
        "X_insample = sm.add_constant(X_insample)\n",
        "\n",
        "# Membuat model regresi tren\n",
        "model = sm.OLS(insample['diff'], X_insample).fit()\n",
        "\n",
        "# Melihat ringkasan hasil model insample\n",
        "print(model.summary())"
      ],
      "metadata": {
        "colab": {
          "base_uri": "https://localhost:8080/"
        },
        "id": "AYh9HxzdjMOQ",
        "outputId": "2ad76bd8-ab98-433f-d705-5a2bf0537f51"
      },
      "execution_count": 17,
      "outputs": [
        {
          "output_type": "stream",
          "name": "stdout",
          "text": [
            "                            OLS Regression Results                            \n",
            "==============================================================================\n",
            "Dep. Variable:                   diff   R-squared:                       0.104\n",
            "Model:                            OLS   Adj. R-squared:                  0.075\n",
            "Method:                 Least Squares   F-statistic:                     3.571\n",
            "Date:                Fri, 20 Sep 2024   Prob (F-statistic):             0.0170\n",
            "Time:                        06:15:28   Log-Likelihood:                -1093.9\n",
            "No. Observations:                  96   AIC:                             2196.\n",
            "Df Residuals:                      92   BIC:                             2206.\n",
            "Df Model:                           3                                         \n",
            "Covariance Type:            nonrobust                                         \n",
            "======================================================================================\n",
            "                         coef    std err          t      P>|t|      [0.025      0.975]\n",
            "--------------------------------------------------------------------------------------\n",
            "const               2112.0252   4563.515      0.463      0.645   -6951.510    1.12e+04\n",
            "Time                   3.0660     81.066      0.038      0.970    -157.937     164.069\n",
            "DummyBulanIdulAdha -1.747e+04   1.57e+04     -1.110      0.270   -4.87e+04    1.38e+04\n",
            "DummyIdulAdha       -1.14e+04    1.8e+04     -0.635      0.527   -4.71e+04    2.43e+04\n",
            "==============================================================================\n",
            "Omnibus:                       34.706   Durbin-Watson:                   2.707\n",
            "Prob(Omnibus):                  0.000   Jarque-Bera (JB):              131.121\n",
            "Skew:                           1.091   Prob(JB):                     3.37e-29\n",
            "Kurtosis:                       8.293   Cond. No.                         574.\n",
            "==============================================================================\n",
            "\n",
            "Notes:\n",
            "[1] Standard Errors assume that the covariance matrix of the errors is correctly specified.\n"
          ]
        },
        {
          "output_type": "stream",
          "name": "stderr",
          "text": [
            "<ipython-input-17-a21a94912950>:2: SettingWithCopyWarning: \n",
            "A value is trying to be set on a copy of a slice from a DataFrame.\n",
            "Try using .loc[row_indexer,col_indexer] = value instead\n",
            "\n",
            "See the caveats in the documentation: https://pandas.pydata.org/pandas-docs/stable/user_guide/indexing.html#returning-a-view-versus-a-copy\n",
            "  insample['diff'] = y_insample.diff().dropna()\n",
            "<ipython-input-17-a21a94912950>:7: SettingWithCopyWarning: \n",
            "A value is trying to be set on a copy of a slice from a DataFrame.\n",
            "Try using .loc[row_indexer,col_indexer] = value instead\n",
            "\n",
            "See the caveats in the documentation: https://pandas.pydata.org/pandas-docs/stable/user_guide/indexing.html#returning-a-view-versus-a-copy\n",
            "  insample['diff'] = pd.to_numeric(insample['diff'], errors='coerce').fillna(0)\n"
          ]
        }
      ]
    },
    {
      "cell_type": "code",
      "source": [
        "# Definisikan variabel dependen (y) dan tambahkan variabel waktu sebagai bagian dari variabel independen\n",
        "insample['diff'] = y_insample.diff().dropna()\n",
        "X_insample = insample[['Time', 'DummyIdulAdha']]  # Menambahkan variabel Time\n",
        "\n",
        "# Convert relevant columns to numeric types and handle NaN\n",
        "X_insample = X_insample.apply(pd.to_numeric, errors='coerce').fillna(0)\n",
        "insample['diff'] = pd.to_numeric(insample['diff'], errors='coerce').fillna(0)\n",
        "\n",
        "# Menambahkan konstanta ke dalam model regresi\n",
        "X_insample = sm.add_constant(X_insample)\n",
        "\n",
        "# Membuat model regresi tren\n",
        "model = sm.OLS(insample['diff'], X_insample).fit()\n",
        "\n",
        "# Melihat ringkasan hasil model insample\n",
        "print(model.summary())"
      ],
      "metadata": {
        "colab": {
          "base_uri": "https://localhost:8080/"
        },
        "id": "OM3Wh8QejUHk",
        "outputId": "557ecfda-2fb7-412c-a2f8-b3bf32219483"
      },
      "execution_count": 18,
      "outputs": [
        {
          "output_type": "stream",
          "name": "stdout",
          "text": [
            "                            OLS Regression Results                            \n",
            "==============================================================================\n",
            "Dep. Variable:                   diff   R-squared:                       0.092\n",
            "Model:                            OLS   Adj. R-squared:                  0.073\n",
            "Method:                 Least Squares   F-statistic:                     4.728\n",
            "Date:                Fri, 20 Sep 2024   Prob (F-statistic):             0.0111\n",
            "Time:                        06:24:50   Log-Likelihood:                -1094.5\n",
            "No. Observations:                  96   AIC:                             2195.\n",
            "Df Residuals:                      93   BIC:                             2203.\n",
            "Df Model:                           2                                         \n",
            "Covariance Type:            nonrobust                                         \n",
            "=================================================================================\n",
            "                    coef    std err          t      P>|t|      [0.025      0.975]\n",
            "---------------------------------------------------------------------------------\n",
            "const          2031.9932   4568.658      0.445      0.658   -7040.456    1.11e+04\n",
            "Time             -3.2729     80.966     -0.040      0.968    -164.054     157.509\n",
            "DummyIdulAdha  -2.85e+04   9268.973     -3.075      0.003   -4.69e+04   -1.01e+04\n",
            "==============================================================================\n",
            "Omnibus:                       33.901   Durbin-Watson:                   2.651\n",
            "Prob(Omnibus):                  0.000   Jarque-Bera (JB):              126.505\n",
            "Skew:                           1.065   Prob(JB):                     3.39e-28\n",
            "Kurtosis:                       8.205   Cond. No.                         232.\n",
            "==============================================================================\n",
            "\n",
            "Notes:\n",
            "[1] Standard Errors assume that the covariance matrix of the errors is correctly specified.\n"
          ]
        },
        {
          "output_type": "stream",
          "name": "stderr",
          "text": [
            "<ipython-input-18-b3524091f48a>:2: SettingWithCopyWarning: \n",
            "A value is trying to be set on a copy of a slice from a DataFrame.\n",
            "Try using .loc[row_indexer,col_indexer] = value instead\n",
            "\n",
            "See the caveats in the documentation: https://pandas.pydata.org/pandas-docs/stable/user_guide/indexing.html#returning-a-view-versus-a-copy\n",
            "  insample['diff'] = y_insample.diff().dropna()\n",
            "<ipython-input-18-b3524091f48a>:7: SettingWithCopyWarning: \n",
            "A value is trying to be set on a copy of a slice from a DataFrame.\n",
            "Try using .loc[row_indexer,col_indexer] = value instead\n",
            "\n",
            "See the caveats in the documentation: https://pandas.pydata.org/pandas-docs/stable/user_guide/indexing.html#returning-a-view-versus-a-copy\n",
            "  insample['diff'] = pd.to_numeric(insample['diff'], errors='coerce').fillna(0)\n"
          ]
        }
      ]
    },
    {
      "cell_type": "code",
      "source": [
        "# Definisikan variabel dependen (y) dan tambahkan variabel waktu sebagai bagian dari variabel independen\n",
        "insample['diff'] = y_insample.diff().dropna()\n",
        "X_insample = insample[['Time', 'DummyBulanIdulAdha']]  # Menambahkan variabel Time\n",
        "\n",
        "# Convert relevant columns to numeric types and handle NaN\n",
        "X_insample = X_insample.apply(pd.to_numeric, errors='coerce').fillna(0)\n",
        "insample['diff'] = pd.to_numeric(insample['diff'], errors='coerce').fillna(0)\n",
        "\n",
        "# Menambahkan konstanta ke dalam model regresi\n",
        "X_insample = sm.add_constant(X_insample)\n",
        "\n",
        "# Membuat model regresi tren\n",
        "model = sm.OLS(insample['diff'], X_insample).fit()\n",
        "\n",
        "# Melihat ringkasan hasil model insample\n",
        "print(model.summary())"
      ],
      "metadata": {
        "colab": {
          "base_uri": "https://localhost:8080/"
        },
        "id": "N2rchz-WjYnN",
        "outputId": "182a0dae-8f7f-4aec-8346-2b534e72fe87"
      },
      "execution_count": 19,
      "outputs": [
        {
          "output_type": "stream",
          "name": "stdout",
          "text": [
            "                            OLS Regression Results                            \n",
            "==============================================================================\n",
            "Dep. Variable:                   diff   R-squared:                       0.100\n",
            "Model:                            OLS   Adj. R-squared:                  0.081\n",
            "Method:                 Least Squares   F-statistic:                     5.188\n",
            "Date:                Fri, 20 Sep 2024   Prob (F-statistic):            0.00731\n",
            "Time:                        06:28:30   Log-Likelihood:                -1094.1\n",
            "No. Observations:                  96   AIC:                             2194.\n",
            "Df Residuals:                      93   BIC:                             2202.\n",
            "Df Model:                           2                                         \n",
            "Covariance Type:            nonrobust                                         \n",
            "======================================================================================\n",
            "                         coef    std err          t      P>|t|      [0.025      0.975]\n",
            "--------------------------------------------------------------------------------------\n",
            "const               1938.1529   4540.632      0.427      0.670   -7078.643     1.1e+04\n",
            "Time                   6.6637     80.607      0.083      0.934    -153.406     166.733\n",
            "DummyBulanIdulAdha -2.603e+04   8081.924     -3.221      0.002   -4.21e+04   -9984.235\n",
            "==============================================================================\n",
            "Omnibus:                       34.396   Durbin-Watson:                   2.711\n",
            "Prob(Omnibus):                  0.000   Jarque-Bera (JB):              129.575\n",
            "Skew:                           1.080   Prob(JB):                     7.30e-29\n",
            "Kurtosis:                       8.265   Cond. No.                         203.\n",
            "==============================================================================\n",
            "\n",
            "Notes:\n",
            "[1] Standard Errors assume that the covariance matrix of the errors is correctly specified.\n"
          ]
        },
        {
          "output_type": "stream",
          "name": "stderr",
          "text": [
            "<ipython-input-19-5087c61bfe0c>:2: SettingWithCopyWarning: \n",
            "A value is trying to be set on a copy of a slice from a DataFrame.\n",
            "Try using .loc[row_indexer,col_indexer] = value instead\n",
            "\n",
            "See the caveats in the documentation: https://pandas.pydata.org/pandas-docs/stable/user_guide/indexing.html#returning-a-view-versus-a-copy\n",
            "  insample['diff'] = y_insample.diff().dropna()\n",
            "<ipython-input-19-5087c61bfe0c>:7: SettingWithCopyWarning: \n",
            "A value is trying to be set on a copy of a slice from a DataFrame.\n",
            "Try using .loc[row_indexer,col_indexer] = value instead\n",
            "\n",
            "See the caveats in the documentation: https://pandas.pydata.org/pandas-docs/stable/user_guide/indexing.html#returning-a-view-versus-a-copy\n",
            "  insample['diff'] = pd.to_numeric(insample['diff'], errors='coerce').fillna(0)\n"
          ]
        }
      ]
    },
    {
      "cell_type": "markdown",
      "source": [
        "# Uji Diagnostik"
      ],
      "metadata": {
        "id": "Xgk-eFpHksr_"
      }
    },
    {
      "cell_type": "code",
      "source": [
        "# Definisikan variabel dependen (y) dan tambahkan variabel dummy Idul Fitri dan Time\n",
        "insample['diff'] = y_insample.diff().dropna()\n",
        "X_insample = insample[['Time', 'DummyIdulFitri']]\n",
        "\n",
        "# Convert relevant columns to numeric types and handle NaN\n",
        "X_insample = X_insample.apply(pd.to_numeric, errors='coerce').fillna(0)\n",
        "insample['diff'] = pd.to_numeric(insample['diff'], errors='coerce').fillna(0)\n",
        "\n",
        "# Menambahkan konstanta ke dalam model regresi\n",
        "X_insample = sm.add_constant(X_insample)\n",
        "\n",
        "# Membuat model regresi tren\n",
        "model = sm.OLS(insample['diff'], X_insample).fit()\n",
        "\n",
        "# Mengambil residual dari model\n",
        "residuals = model.resid\n",
        "\n",
        "# Uji Heteroskedastisitas menggunakan Uji Breusch-Pagan\n",
        "bp_test = sm.stats.diagnostic.het_breuschpagan(residuals, X_insample)\n",
        "print('Uji Breusch-Pagan:')\n",
        "print(f'  Statistik: {bp_test[0]:.4f}')\n",
        "print(f'  p-value: {bp_test[1]:.4f}')\n",
        "\n",
        "# Evaluasi hasil uji heteroskedastisitas\n",
        "if bp_test[1] < 0.05:\n",
        "  print('  Indikasi heteroskedastisitas')\n",
        "else:\n",
        "  print('  Tidak ada indikasi heteroskedastisitas')\n",
        "\n",
        "# Uji Autokorelasi Residual menggunakan Uji Durbin-Watson\n",
        "dw_test = sm.stats.durbin_watson(residuals)\n",
        "print(f'Uji Durbin-Watson: {dw_test:.4f}')\n",
        "\n",
        "# Evaluasi hasil uji autokorelasi\n",
        "if dw_test < 1.5:\n",
        "    print('  Indikasi autokorelasi positif')\n",
        "elif dw_test > 2.5:\n",
        "    print('  Indikasi autokorelasi negatif')\n",
        "else:\n",
        "    print('  Tidak ada indikasi autokorelasi')\n",
        "\n",
        "# Visualisasi Normalitas dengan QQ plot\n",
        "sm.qqplot(residuals, line='45')\n",
        "plt.title('QQ Plot')\n",
        "plt.show()\n",
        "# Keputusan QQ Plot: Periksa apakah titik-titik berada di sepanjang garis 45 derajat. Jika tidak, ini menunjukkan deviasi dari normalitas."
      ],
      "metadata": {
        "colab": {
          "base_uri": "https://localhost:8080/",
          "height": 784
        },
        "id": "MNXrRLyGl9V0",
        "outputId": "537b04f6-78fe-41db-9971-a856690d0b55"
      },
      "execution_count": 20,
      "outputs": [
        {
          "output_type": "stream",
          "name": "stderr",
          "text": [
            "<ipython-input-20-a2446c3165ef>:2: SettingWithCopyWarning: \n",
            "A value is trying to be set on a copy of a slice from a DataFrame.\n",
            "Try using .loc[row_indexer,col_indexer] = value instead\n",
            "\n",
            "See the caveats in the documentation: https://pandas.pydata.org/pandas-docs/stable/user_guide/indexing.html#returning-a-view-versus-a-copy\n",
            "  insample['diff'] = y_insample.diff().dropna()\n",
            "<ipython-input-20-a2446c3165ef>:7: SettingWithCopyWarning: \n",
            "A value is trying to be set on a copy of a slice from a DataFrame.\n",
            "Try using .loc[row_indexer,col_indexer] = value instead\n",
            "\n",
            "See the caveats in the documentation: https://pandas.pydata.org/pandas-docs/stable/user_guide/indexing.html#returning-a-view-versus-a-copy\n",
            "  insample['diff'] = pd.to_numeric(insample['diff'], errors='coerce').fillna(0)\n"
          ]
        },
        {
          "output_type": "stream",
          "name": "stdout",
          "text": [
            "Uji Breusch-Pagan:\n",
            "  Statistik: 1.4246\n",
            "  p-value: 0.4905\n",
            "  Tidak ada indikasi heteroskedastisitas\n",
            "Uji Durbin-Watson: 2.4802\n",
            "  Tidak ada indikasi autokorelasi\n"
          ]
        },
        {
          "output_type": "display_data",
          "data": {
            "text/plain": [
              "<Figure size 640x480 with 1 Axes>"
            ],
            "image/png": "[encoded data removed]"
          },
          "metadata": {}
        }
      ]
    },
    {
      "cell_type": "markdown",
      "source": [
        "# Evaluasi Akurasi Model"
      ],
      "metadata": {
        "id": "lmTsqBYwnQkG"
      }
    },
    {
      "cell_type": "code",
      "source": [
        "import pandas as pd\n",
        "import statsmodels.api as sm\n",
        "import numpy as np\n",
        "from sklearn.metrics import mean_absolute_error, mean_squared_error, mean_absolute_percentage_error\n",
        "\n",
        "# Definisikan variabel dependen (y) dan tambahkan variabel dummy Idul Fitri dan Time untuk insample\n",
        "insample['diff'] = y_insample.diff().dropna()\n",
        "X_insample = insample[['Time', 'DummyIdulFitri']]\n",
        "\n",
        "# Convert relevant columns to numeric types and handle NaN\n",
        "X_insample = X_insample.apply(pd.to_numeric, errors='coerce').fillna(0)\n",
        "insample['diff'] = pd.to_numeric(insample['diff'], errors='coerce').fillna(0)\n",
        "\n",
        "# Menambahkan konstanta ke dalam model regresi\n",
        "X_insample = sm.add_constant(X_insample)\n",
        "\n",
        "# Membuat model regresi tren\n",
        "model = sm.OLS(y_insample, X_insample).fit()\n",
        "\n",
        "# Prediksi untuk data insample\n",
        "y_pred_insample = model.predict(X_insample)\n",
        "\n",
        "# Evaluasi model untuk insample\n",
        "mae = mean_absolute_error(insample['diff'], y_pred_insample)\n",
        "mse = mean_squared_error(insample['diff'], y_pred_insample)\n",
        "rmse = np.sqrt(mse)\n",
        "mape = mean_absolute_percentage_error(y_insample, y_pred_insample)\n",
        "\n",
        "print('Evaluasi Model (Insample):')\n",
        "print(f'MAE: {mae:.2f}')\n",
        "print(f'MSE: {mse:.2f}')\n",
        "print(f'RMSE: {rmse:.2f}')\n",
        "print(f'MAPE: {mape:.2%}')\n",
        "\n",
        "# Definisikan variabel dependen (y) dan tambahkan variabel dummy Idul Fitri dan Time untuk outsample\n",
        "y_outsample = outsample['Jumlah Keberangkatan Penumpang']\n",
        "X_outsample = outsample[['Time', 'DummyIdulFitri']]\n",
        "\n",
        "# Convert relevant columns to numeric types and handle NaN\n",
        "X_outsample = X_outsample.apply(pd.to_numeric, errors='coerce').fillna(0)\n",
        "y_outsample = pd.to_numeric(y_outsample, errors='coerce').fillna(0)\n",
        "\n",
        "# Menambahkan konstanta ke dalam model regresi\n",
        "X_outsample = sm.add_constant(X_outsample)\n",
        "\n",
        "# Prediksi untuk data outsample\n",
        "y_pred_outsample = model.predict(X_outsample)\n",
        "\n",
        "# Evaluasi model untuk outsample\n",
        "mae_outsample = mean_absolute_error(y_outsample, y_pred_outsample)\n",
        "mse_outsample = mean_squared_error(y_outsample, y_pred_outsample)\n",
        "rmse_outsample = np.sqrt(mse_outsample)\n",
        "mape_outsample = mean_absolute_percentage_error(y_outsample, y_pred_outsample)\n",
        "\n",
        "print('Evaluasi Model (Outsample):')\n",
        "print(f'MAE: {mae_outsample:.2f}')\n",
        "print(f'MSE: {mse_outsample:.2f}')\n",
        "print(f'RMSE: {rmse_outsample:.2f}')\n",
        "print(f'MAPE: {mape_outsample:.2%}')\n"
      ],
      "metadata": {
        "colab": {
          "base_uri": "https://localhost:8080/"
        },
        "id": "0NcZ55l7nQFZ",
        "outputId": "1aaa1ff3-2688-4ac2-feb6-812c23a6d757"
      },
      "execution_count": 21,
      "outputs": [
        {
          "output_type": "stream",
          "name": "stdout",
          "text": [
            "Evaluasi Model (Insample):\n",
            "MAE: 28425.93\n",
            "MSE: 1094850289.14\n",
            "RMSE: 33088.52\n",
            "MAPE: 70.48%\n",
            "Evaluasi Model (Outsample):\n",
            "MAE: 33869.76\n",
            "MSE: 1669766966.66\n",
            "RMSE: 40862.78\n",
            "MAPE: 54.09%\n"
          ]
        },
        {
          "output_type": "stream",
          "name": "stderr",
          "text": [
            "<ipython-input-21-565be333ed31>:7: SettingWithCopyWarning: \n",
            "A value is trying to be set on a copy of a slice from a DataFrame.\n",
            "Try using .loc[row_indexer,col_indexer] = value instead\n",
            "\n",
            "See the caveats in the documentation: https://pandas.pydata.org/pandas-docs/stable/user_guide/indexing.html#returning-a-view-versus-a-copy\n",
            "  insample['diff'] = y_insample.diff().dropna()\n",
            "<ipython-input-21-565be333ed31>:12: SettingWithCopyWarning: \n",
            "A value is trying to be set on a copy of a slice from a DataFrame.\n",
            "Try using .loc[row_indexer,col_indexer] = value instead\n",
            "\n",
            "See the caveats in the documentation: https://pandas.pydata.org/pandas-docs/stable/user_guide/indexing.html#returning-a-view-versus-a-copy\n",
            "  insample['diff'] = pd.to_numeric(insample['diff'], errors='coerce').fillna(0)\n"
          ]
        }
      ]
    }
  ]
}